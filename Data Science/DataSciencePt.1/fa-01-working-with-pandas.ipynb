{
    "cells": [
        {
            "cell_type": "markdown",
            "metadata": {
                "nbgrader": {
                    "grade": false,
                    "locked": true,
                    "solution": false
                },
                "editable": false,
                "deletable": false
            },
            "source": [
                "![Final Lesson Exercise](images\/Banner_FEX.png)"
            ]
        },
        {
            "cell_type": "markdown",
            "metadata": {
                "nbgrader": {
                    "grade": false,
                    "locked": true,
                    "solution": false
                },
                "editable": false,
                "deletable": false
            },
            "source": [
                "# Lesson #1: Introduction to Data Science\n",
                "## Good chocolate - The 'flavors of cacao' dataset"
            ]
        },
        {
            "cell_type": "markdown",
            "metadata": {
                "nbgrader": {
                    "grade": false,
                    "locked": true,
                    "solution": false
                },
                "editable": false,
                "deletable": false
            },
            "source": [
                "<table  align='left' valign=\"top\"><tr>\n",
                "<td align='left'>\n",
                "    <a title='Chocolate and cocoa beans'> <img width=\"400\" src=\".\/images\/a-01-dark-chocolate.jpg\" width=\"px\" align='left' \/><\/a>\n",
                "<\/td>\n",
                "<td align='left' style=\"vertical-align:top\">\n",
                "<div align='left' style=\"font-size:130%\">\n",
                "<h3>Lets ask some questions:<\/h3>\n",
                "<ul align='left'>\n",
                "<li>What makes a chocolate good?<\/li>\n",
                "<li>Where does good chocolate come from?<\/li> \n",
                "<li>Do you know what characterizes good chocolate?<\/li> \n",
                "<li>Is darker chocolate better?<\/li>\n",
                "<li>How influential is the type of beans used?<\/li>\n",
                "<li>Is it the type of beans or their origin?<\/li>\n",
                "<li>Is the company producing it a major factor?<\/li>\n",
                "<\/ul><\/div><\/td>\n",
                "<\/tr>\n",
                "<\/table>"
            ]
        },
        {
            "cell_type": "markdown",
            "metadata": {
                "nbgrader": {
                    "grade": false,
                    "locked": true,
                    "solution": false
                },
                "editable": false,
                "deletable": false
            },
            "source": [
                "## About this assignment\n",
                "In this assignment, you will explore a dataset on chocolates.<br\/>\n",
                "\n",
                "You will do so, using the pandas library, introduced in the lesson."
            ]
        },
        {
            "cell_type": "markdown",
            "metadata": {},
            "source": [
                "## Preceding Step - import modules (packages)\n",
                "This step is necessary in order to use external packages. \n",
                "\n",
                "**Use the following libraries for the assignment, when needed**:"
            ]
        },
        {
            "cell_type": "code",
            "execution_count": null,
            "metadata": {
                "collapsed": true,
                "nbgrader": {
                    "grade": false,
                    "locked": true,
                    "solution": false
                },
                "editable": false,
                "deletable": false
            },
            "outputs": [],
            "source": [
                "# ------------>>>>>>>> RUN THIS CODE CELL <<<<<<<<------------\n",
                "# === CELL TYPE: IMPORTS AND SETUP \n",
                "\n",
                "import pandas as pd\n",
                "import os # for testing use only"
            ]
        },
        {
            "cell_type": "markdown",
            "metadata": {
                "nbgrader": {
                    "grade": false,
                    "locked": true,
                    "solution": false
                },
                "editable": false,
                "deletable": false
            },
            "source": [
                "### 1. Loading the 'flavors of cacao' dataset"
            ]
        },
        {
            "cell_type": "markdown",
            "metadata": {},
            "source": [
                "### Instructions\n",
                "<u>method name<\/u>: <b>load_csv<\/b>\n",
                "<pre>The following is expected:\n",
                "--- Complete the 'load_csv' function to load the 'flavors of cacao' dataset \n",
                "    from the csv, located in the file_name parameter into a pandas dataframe\n",
                "    and return the dataframe\n",
                "<\/pre>"
            ]
        },
        {
            "cell_type": "code",
            "execution_count": null,
            "metadata": {
                "collapsed": true
            },
            "outputs": [],
            "source": [
                "# 1.\n",
                "# ------------>>>>>>>> RUN THIS CODE CELL <<<<<<<<------------\n",
                "# --------  (run after implementation)\n",
                "# === CODE TYPE: ANSWER \n",
                "\n",
                "def load_csv(file_name):\n",
                "    ###\n",
                "    ### YOUR CODE HERE\n",
                "    ###\n"
            ]
        },
        {
            "cell_type": "code",
            "execution_count": null,
            "metadata": {
                "collapsed": true
            },
            "outputs": [],
            "source": [
                "# 1.\n",
                "# ------------>>>>>>>> RUN THIS CODE CELL <<<<<<<<------------\n",
                "# --------  (run after implementation)\n",
                "# === CODE TYPE: SELF TESTING\n",
                "# Use the following code to test your implementation:\n",
                "\n",
                "file_name = 'data' + os.sep + 'flavors_of_cacao.csv'\n",
                "df_cocoa = load_csv(file_name)\n",
                "###\n",
                "### YOUR CODE HERE\n",
                "###\n"
            ]
        },
        {
            "cell_type": "code",
            "execution_count": null,
            "metadata": {
                "collapsed": true
            },
            "outputs": [],
            "source": [
                "# 1.\n",
                "# ------------>>>>>>>> RUN THIS CODE CELL <<<<<<<<------------\n",
                "# --------  (run after implementation, if used)\n",
                "# === CODE TYPE: SELF TESTING\n",
                "# Add your additional tests here if needed:\n",
                "\n",
                "###\n",
                "### YOUR CODE HERE\n",
                "###\n"
            ]
        },
        {
            "cell_type": "code",
            "execution_count": null,
            "metadata": {
                "nbgrader": {
                    "grade": true,
                    "grade_id": "test-1_1-load-csv",
                    "locked": true,
                    "points": "0.2",
                    "solution": false
                },
                "editable": false,
                "deletable": false
            },
            "outputs": [],
            "source": [
                "# 1.\n",
                "# ------------>>>>>>>> RUN THIS CODE CELL <<<<<<<<------------\n",
                "# --------  (run only)\n",
                "# === CODE TYPE: GRADED TEST \n",
                "\n",
                "print (\"Part 1 - Test 1 (0.2 points) - Sanity\")\n",
                "print (\"\\t--->Testing the implementation of 'load_csv' ...\")\n",
                "try:\n",
                "    file_name = 'data' + os.sep + 'flavors_of_cacao.csv'\n",
                "    df_chocolate = load_csv(file_name)\n",
                "except Exception as e:\n",
                "    print ('You probably have a syntax error, we got the following exception:')\n",
                "    print (str(e))\n",
                "\n",
                "print (\"Good Job!\\nYou've passed the 1st test for the 'load_dataset' function implementation :-)\")"
            ]
        },
        {
            "cell_type": "code",
            "execution_count": null,
            "metadata": {
                "nbgrader": {
                    "grade": true,
                    "grade_id": "test-1_2-load-csv",
                    "locked": true,
                    "points": "0.3",
                    "solution": false
                },
                "editable": false,
                "deletable": false
            },
            "outputs": [],
            "source": [
                "# 1.\n",
                "# ------------>>>>>>>> RUN THIS CODE CELL <<<<<<<<------------\n",
                "# --------  (run only)\n",
                "# === CODE TYPE: GRADED TEST \n",
                "\n",
                "print (\"Part 1 - Test 2 (0.3 points)\")\n",
                "print (\"\\t---> - Testing the implementation of 'load_csv' ...\")\n",
                "\n",
                "try:\n",
                "    # file_name = '.' + os.sep + 'data' + os.sep + 'flavors_of_cacao.csv'\n",
                "    file_name = 'data' + os.sep + 'flavors_of_cacao.csv'\n",
                "    df_chocolate = load_csv(file_name)\n",
                "except Exception as e:\n",
                "    print ('You probably have a syntax error, we got the following exception:')\n",
                "    print (str(e))\n",
                "    \n",
                "assert df_chocolate is not None, \"You did not return an object from the 'load_csv' function, try again\"\n",
                "assert isinstance(df_chocolate, pd.DataFrame), \"The object you returned is not a dataframe, try again\"\n",
                "\n",
                "print (\"Good Job!\\nYou've passed the 2nd test for the 'load_dataset' function implementation :-)\")"
            ]
        },
        {
            "cell_type": "markdown",
            "metadata": {
                "nbgrader": {
                    "grade": false,
                    "locked": true,
                    "solution": false
                },
                "editable": false,
                "deletable": false
            },
            "source": [
                "### 2. Get some information about the dataset (from the dataframe)\n",
                "#### The dataset contains the following columns:\n",
                "* Company (Maker-if known) - Name of the company manufacturing the bar\n",
                "* Specific Bean Origin or Bar Name -  The specific geo-region of origin for the bar.\n",
                "* REF - reference number\n",
                "* Review Date - Year of publication of the review.\n",
                "* Cocoa Percent - Cocoa percentage (darkness) of the chocolate bar being reviewed.\n",
                "* Company Location - Manufacturer base country.\n",
                "* Rating - The rating that the experts gave (5 is the best, 1 is the worst)\n",
                "* Bean Type - The variety (breed) of bean used, if provided\n",
                "* Broad Bean Origin - The broad geo-region of origin for the bean"
            ]
        },
        {
            "cell_type": "markdown",
            "metadata": {
                "nbgrader": {
                    "grade": false,
                    "locked": true,
                    "solution": false
                },
                "editable": false,
                "deletable": false
            },
            "source": [
                "#### 2.a. Obtain the number of rows"
            ]
        },
        {
            "cell_type": "markdown",
            "metadata": {},
            "source": [
                "### Instructions\n",
                "<u>method name<\/u>: <b>get_number_of_rows<\/b>\n",
                "<pre>The following is expected:\n",
                "--- Complete the 'get_num_of_rows' function to return the number of rows \n",
                "    in the pandas dataframe, given in the parameter 'dataframe'\n",
                "<\/pre>"
            ]
        },
        {
            "cell_type": "code",
            "execution_count": null,
            "metadata": {
                "collapsed": true
            },
            "outputs": [],
            "source": [
                "# 2.a.\n",
                "# ------------>>>>>>>> RUN THIS CODE CELL <<<<<<<<------------\n",
                "# --------  (run after implementation)\n",
                "# === CODE TYPE: ANSWER \n",
                "\n",
                "def get_number_of_rows(dataframe):\n",
                "    ###\n",
                "    ### YOUR CODE HERE\n",
                "    ###\n"
            ]
        },
        {
            "cell_type": "code",
            "execution_count": null,
            "metadata": {
                "collapsed": true
            },
            "outputs": [],
            "source": [
                "# 2.a.\n",
                "# ------------>>>>>>>> RUN THIS CODE CELL <<<<<<<<------------\n",
                "# --------  (run after implementation)\n",
                "# === CODE TYPE: SELF TESTING\n",
                "# Use the following code to test your implementation:\n",
                "\n",
                "file_name = 'data' + os.sep + 'flavors_of_cacao.csv'\n",
                "df_cocoa = load_csv(file_name)\n",
                "n_rows = get_number_of_rows(df_cocoa)\n",
                "###\n",
                "### YOUR CODE HERE\n",
                "###\n"
            ]
        },
        {
            "cell_type": "code",
            "execution_count": null,
            "metadata": {
                "collapsed": true
            },
            "outputs": [],
            "source": [
                "# 2.a.\n",
                "# ------------>>>>>>>> RUN THIS CODE CELL <<<<<<<<------------\n",
                "# --------  (run after implementation, if used)\n",
                "# === CODE TYPE: SELF TESTING\n",
                "# Add your additional tests here if needed:\n",
                "\n",
                "###\n",
                "### YOUR CODE HERE\n",
                "###\n"
            ]
        },
        {
            "cell_type": "code",
            "execution_count": null,
            "metadata": {
                "nbgrader": {
                    "grade": true,
                    "grade_id": "test-2a_1-row-num",
                    "locked": true,
                    "points": "0.2",
                    "solution": false
                },
                "editable": false,
                "deletable": false
            },
            "outputs": [],
            "source": [
                "# 2.a.\n",
                "# ------------>>>>>>>> RUN THIS CODE CELL <<<<<<<<------------\n",
                "# --------  (run only)\n",
                "# === CODE TYPE: GRADED TEST \n",
                "\n",
                "print (\"Part 2.a. - Test 1 (0.2 points) - Sanity\")\n",
                "print (\"\\t--->Testing the implementation of 'get_number_of_rows' ...\")\n",
                "\n",
                "try:\n",
                "    file_name = 'data' + os.sep + 'flavors_of_cacao.csv'\n",
                "    df_chocolate = load_csv(file_name)\n",
                "    num_of_rows    = get_number_of_rows(df_chocolate)\n",
                "except Exception as e:\n",
                "    print ('You probably have a syntax error, we got the following exception:')\n",
                "    print (str(e))\n",
                "    \n",
                "print (\"Good Job!\\nYou've passed the 1st test for the 'get_number_of_rows' function implementation :-)\")"
            ]
        },
        {
            "cell_type": "code",
            "execution_count": null,
            "metadata": {
                "nbgrader": {
                    "grade": true,
                    "grade_id": "test-2a_2-row-num",
                    "locked": true,
                    "points": "0.2",
                    "solution": false
                },
                "editable": false,
                "deletable": false
            },
            "outputs": [],
            "source": [
                "# 2.a.\n",
                "# ------------>>>>>>>> RUN THIS CODE CELL <<<<<<<<------------\n",
                "# --------  (run only)\n",
                "# === CODE TYPE: GRADED TEST \n",
                "\n",
                "print (\"Part 2.a. - Test 2 (0.2 points)\")\n",
                "print (\"\\t--->Testing the implementation of 'get_number_of_rows' ...\")\n",
                "\n",
                "try:\n",
                "    file_name = 'data' + os.sep + 'flavors_of_cacao.csv'\n",
                "    df_chocolate = load_csv(file_name)\n",
                "    num_of_rows    = get_number_of_rows(df_chocolate)\n",
                "    print ('Num of rows=%d' %(num_of_rows))\n",
                "except Exception as e:\n",
                "    print ('You probably have a syntax error, we got the following exception:')\n",
                "    print (str(e))\n",
                "    \n",
                "assert num_of_rows != 0, \"The number of rows can't be 0\"\n",
                "\n",
                "print (\"Good Job!\\nYou've passed the 2nd test for the 'get_number_of_rows' function implementation :-)\")"
            ]
        },
        {
            "cell_type": "markdown",
            "metadata": {
                "nbgrader": {
                    "grade": false,
                    "locked": true,
                    "solution": false
                },
                "editable": false,
                "deletable": false
            },
            "source": [
                "#### 2.b. Obtain the number of columns"
            ]
        },
        {
            "cell_type": "markdown",
            "metadata": {},
            "source": [
                "### Instructions\n",
                "<u>method name<\/u>: <b>get_number_of_columns<\/b>\n",
                "<pre>The following is expected:\n",
                "--- Complete the 'get_num_of_columns' function to return the number of columns \n",
                "    in the pandas dataframe, given in the parameter 'dataframe'\n",
                "<\/pre>"
            ]
        },
        {
            "cell_type": "code",
            "execution_count": null,
            "metadata": {
                "collapsed": true
            },
            "outputs": [],
            "source": [
                "# 2.b.\n",
                "# ------------>>>>>>>> RUN THIS CODE CELL <<<<<<<<------------\n",
                "# --------  (run after implementation)\n",
                "# === CODE TYPE: ANSWER \n",
                "\n",
                "def get_number_of_columns(dataframe):\n",
                "    ###\n",
                "    ### YOUR CODE HERE\n",
                "    ###\n"
            ]
        },
        {
            "cell_type": "code",
            "execution_count": null,
            "metadata": {
                "collapsed": true
            },
            "outputs": [],
            "source": [
                "# 2.b.\n",
                "# ------------>>>>>>>> RUN THIS CODE CELL <<<<<<<<------------\n",
                "# --------  (run after implementation)\n",
                "# === CODE TYPE: SELF TESTING\n",
                "# Use the following code to test your implementation:\n",
                "\n",
                "file_name = 'data' + os.sep + 'flavors_of_cacao.csv'\n",
                "df_cocoa = load_csv(file_name)\n",
                "n_cols = get_number_of_columns(df_cocoa)\n",
                "###\n",
                "### YOUR CODE HERE\n",
                "###\n"
            ]
        },
        {
            "cell_type": "code",
            "execution_count": null,
            "metadata": {
                "collapsed": true
            },
            "outputs": [],
            "source": [
                "# 2.b.\n",
                "# ------------>>>>>>>> RUN THIS CODE CELL <<<<<<<<------------\n",
                "# --------  (run after implementation, if used)\n",
                "# === CODE TYPE: SELF TESTING\n",
                "# Add your additional tests here if needed:\n",
                "\n",
                "###\n",
                "### YOUR CODE HERE\n",
                "###\n"
            ]
        },
        {
            "cell_type": "code",
            "execution_count": null,
            "metadata": {
                "nbgrader": {
                    "grade": true,
                    "grade_id": "test-2b_1-col-num",
                    "locked": true,
                    "points": "0.2",
                    "solution": false
                },
                "editable": false,
                "deletable": false
            },
            "outputs": [],
            "source": [
                "# 2.b.\n",
                "# ------------>>>>>>>> RUN THIS CODE CELL <<<<<<<<------------\n",
                "# --------  (run only)\n",
                "# === CODE TYPE: GRADED TEST \n",
                "\n",
                "print (\"Part 2.b. - Test 1 (0.2 points) - Sanity\")\n",
                "print (\"\\t--->Testing the implementation of 'get_number_of_columns' ...\")\n",
                "\n",
                "try:\n",
                "    file_name = 'data' + os.sep + 'flavors_of_cacao.csv'\n",
                "    df_chocolate = load_csv(file_name)\n",
                "    num_of_columns = get_number_of_columns(df_chocolate)\n",
                "except Exception as e:\n",
                "    print ('You probably have a syntax error, we got the following exception:')\n",
                "    print (str(e))\n",
                "    \n",
                "print (\"Good Job!\\nYou've passed the 1st test for the 'get_number_of_columns' function implementation :-)\")"
            ]
        },
        {
            "cell_type": "code",
            "execution_count": null,
            "metadata": {
                "nbgrader": {
                    "grade": true,
                    "grade_id": "test-2b_2-col-num",
                    "locked": true,
                    "points": "0.2",
                    "solution": false
                },
                "editable": false,
                "deletable": false
            },
            "outputs": [],
            "source": [
                "# 2.b.\n",
                "# ------------>>>>>>>> RUN THIS CODE CELL <<<<<<<<------------\n",
                "# --------  (run only)\n",
                "# === CODE TYPE: GRADED TEST \n",
                "\n",
                "print (\"Part 2.b. - Test 2 (0.2 points)\")\n",
                "print (\"\\t--->Testing the implementation of 'get_number_of_columns' ...\")\n",
                "\n",
                "try:\n",
                "    file_name = 'data' + os.sep + 'flavors_of_cacao.csv'\n",
                "    df_chocolate = load_csv(file_name)\n",
                "    num_of_columns = get_number_of_columns(df_chocolate)\n",
                "    print ('Num of columns=%d' %(num_of_columns))\n",
                "except Exception as e:\n",
                "    print ('You probably have a syntax error, we got the following exception:')\n",
                "    print (str(e))\n",
                "    \n",
                "assert num_of_columns!=0, \"The number of columns can't be 0\"\n",
                "\n",
                "print (\"Good Job!\\nYou've passed the 2nd test for the 'get_number_of_columns' function implementation :-)\")"
            ]
        },
        {
            "cell_type": "code",
            "execution_count": null,
            "metadata": {
                "nbgrader": {
                    "grade": true,
                    "grade_id": "test-2b_3-col-num",
                    "locked": true,
                    "points": "0.2",
                    "solution": false
                },
                "editable": false,
                "deletable": false
            },
            "outputs": [],
            "source": [
                "# 2.b.\n",
                "# ------------>>>>>>>> RUN THIS CODE CELL <<<<<<<<------------\n",
                "# --------  (run only)\n",
                "# === CODE TYPE: GRADED TEST \n",
                "\n",
                "print (\"Part 2.b. - Test 3 (0.2 points)\")\n",
                "print (\"\\t--->Testing the implementation of 'get_number_of_rows' and 'get_number_of_columns' ...\")\n",
                "\n",
                "try:\n",
                "    file_name = 'data' + os.sep + 'flavors_of_cacao.csv'\n",
                "    df_chocolate = load_csv(file_name)\n",
                "    num_of_rows    = get_number_of_rows(df_chocolate)\n",
                "    num_of_columns = get_number_of_columns(df_chocolate)\n",
                "    print ('Num of rows=%d' %(num_of_rows))\n",
                "    print ('Num of columns=%d' %(num_of_columns))\n",
                "except Exception as e:\n",
                "    print ('You probably have a syntax error, we got the following exception:')\n",
                "    print (str(e))\n",
                "    \n",
                "assert 4 == num_of_rows % num_of_columns, \"You've got a wrong number of rows or columns\"\n",
                "\n",
                "print (\"Good Job!\\nYou've passed the 3rd test for the 'get_number_of_columns' function implementation :-)\")"
            ]
        },
        {
            "cell_type": "markdown",
            "metadata": {
                "nbgrader": {
                    "grade": false,
                    "locked": true,
                    "solution": false
                },
                "editable": false,
                "deletable": false
            },
            "source": [
                "### 3. Reading information from the dataframe:"
            ]
        },
        {
            "cell_type": "markdown",
            "metadata": {
                "nbgrader": {
                    "grade": false,
                    "locked": true,
                    "solution": false
                },
                "editable": false,
                "deletable": false
            },
            "source": [
                "#### 3.a. Get rows in range"
            ]
        },
        {
            "cell_type": "markdown",
            "metadata": {},
            "source": [
                "### Instructions\n",
                "<u>method name<\/u>: <b>get_rows_in_range<\/b>\n",
                "<pre>The following is expected:\n",
                "--- Complete the 'get_rows_in_range' function to return only the rows \n",
                "    in a pandas dataframe, given in the parameter 'dataframe', within the\n",
                "    range 'first_row' and 'last_row' (last row is excluded)\n",
                "<\/pre>"
            ]
        },
        {
            "cell_type": "code",
            "execution_count": null,
            "metadata": {
                "collapsed": true
            },
            "outputs": [],
            "source": [
                "# 3.a.\n",
                "# ------------>>>>>>>> RUN THIS CODE CELL <<<<<<<<------------\n",
                "# --------  (run after implementation)\n",
                "# === CODE TYPE: ANSWER \n",
                "\n",
                "def get_rows_in_range(dataframe, first_row, last_row):\n",
                "    ###\n",
                "    ### YOUR CODE HERE\n",
                "    ###\n"
            ]
        },
        {
            "cell_type": "code",
            "execution_count": null,
            "metadata": {
                "collapsed": true
            },
            "outputs": [],
            "source": [
                "# 3.a.\n",
                "# ------------>>>>>>>> RUN THIS CODE CELL <<<<<<<<------------\n",
                "# --------  (run after implementation)\n",
                "# === CODE TYPE: SELF TESTING\n",
                "# Use the following code to test your implementation:\n",
                "\n",
                "file_name = 'data' + os.sep + 'flavors_of_cacao.csv'\n",
                "df_cocoa = load_csv(file_name)\n",
                "row_begin_range, row_end_range = 1310, 1320\n",
                "df_rows_in_range = get_rows_in_range(df_cocoa, row_begin_range, row_end_range)\n",
                "###\n",
                "### YOUR CODE HERE\n",
                "###\n"
            ]
        },
        {
            "cell_type": "code",
            "execution_count": null,
            "metadata": {
                "collapsed": true
            },
            "outputs": [],
            "source": [
                "# 3.a.\n",
                "# ------------>>>>>>>> RUN THIS CODE CELL <<<<<<<<------------\n",
                "# --------  (run after implementation, if used)\n",
                "# === CODE TYPE: SELF TESTING\n",
                "# Add your additional tests here if needed:\n",
                "\n",
                "###\n",
                "### YOUR CODE HERE\n",
                "###\n"
            ]
        },
        {
            "cell_type": "code",
            "execution_count": null,
            "metadata": {
                "nbgrader": {
                    "grade": true,
                    "grade_id": "test-3a_1-row-in-range",
                    "locked": true,
                    "points": "0.2",
                    "solution": false
                },
                "editable": false,
                "deletable": false
            },
            "outputs": [],
            "source": [
                "# 3.a.\n",
                "# ------------>>>>>>>> RUN THIS CODE CELL <<<<<<<<------------\n",
                "# --------  (run only)\n",
                "# === CODE TYPE: GRADED TEST \n",
                "\n",
                "print (\"Part 3.a. - Test 1 (0.2 points) - Sanity\")\n",
                "print (\"\\t--->Testing the implementation of 'get_rows_in_range' ...\")\n",
                "\n",
                "try:\n",
                "    file_name = 'data' + os.sep + 'flavors_of_cacao.csv'\n",
                "    df_chocolate = load_csv(file_name)\n",
                "    df_ranged_rows = get_rows_in_range(df_chocolate, 1310, 1320)\n",
                "except Exception as e:\n",
                "    print ('You probably have a syntax error, we got the following exception:')\n",
                "    print (str(e))\n",
                "    \n",
                "print (\"Good Job!\\nYou've passed the 1st test for the 'get_rows_in_range' function implementation :-)\")"
            ]
        },
        {
            "cell_type": "code",
            "execution_count": null,
            "metadata": {
                "nbgrader": {
                    "grade": true,
                    "grade_id": "test-3a_2-row-in-range",
                    "locked": true,
                    "points": "0.5",
                    "solution": false
                },
                "editable": false,
                "deletable": false
            },
            "outputs": [],
            "source": [
                "# 3.a.\n",
                "# ------------>>>>>>>> RUN THIS CODE CELL <<<<<<<<------------\n",
                "# --------  (run only)\n",
                "# === CODE TYPE: GRADED TEST \n",
                "\n",
                "print (\"Part 3.a. - Test 2 (0.5 points)\")\n",
                "print (\"\\t--->Testing the implementation of 'get_rows_in_range' ...\")\n",
                "\n",
                "try:\n",
                "    file_name = 'data' + os.sep + 'flavors_of_cacao.csv'\n",
                "    df_chocolate = load_csv(file_name)\n",
                "    df_ranged_rows = get_rows_in_range(df_chocolate, 1310, 1320)\n",
                "    num_of_rows    = get_number_of_rows(df_ranged_rows)\n",
                "    num_of_columns = get_number_of_columns(df_ranged_rows)\n",
                "    print ('Num of rows=%d' %(num_of_rows))\n",
                "    print ('Num of columns=%d' %(num_of_columns))\n",
                "except Exception as e:\n",
                "    print ('You probably have a syntax error, we got the following exception:')\n",
                "    print (str(e))\n",
                "    \n",
                "assert num_of_rows==10 and num_of_columns==9, \"Wrong number of rows or columns\"\n",
                "\n",
                "print (\"Good Job!\\nYou've passed the 2nd test for the 'get_rows_in_range' function implementation :-)\")\n",
                "\n",
                "print ('\\nSub dataframe:')\n",
                "df_ranged_rows"
            ]
        },
        {
            "cell_type": "markdown",
            "metadata": {
                "nbgrader": {
                    "grade": false,
                    "locked": true,
                    "solution": false
                },
                "editable": false,
                "deletable": false
            },
            "source": [
                "#### 3.b. Get columns in range"
            ]
        },
        {
            "cell_type": "markdown",
            "metadata": {},
            "source": [
                "### Instructions\n",
                "<u>method name<\/u>: <b>get_columns_in_range<\/b>\n",
                "<pre>The following is expected:\n",
                "--- Complete the 'get_columns_in_range' function to return only the columns \n",
                "    in a pandas dataframe, given in the parameter 'dataframe', within the\n",
                "    range 'first_column' and 'last_column' (last column is excluded)\n",
                "<\/pre>"
            ]
        },
        {
            "cell_type": "code",
            "execution_count": null,
            "metadata": {
                "collapsed": true
            },
            "outputs": [],
            "source": [
                "# 3.b.\n",
                "# ------------>>>>>>>> RUN THIS CODE CELL <<<<<<<<------------\n",
                "# --------  (run after implementation)\n",
                "# === CODE TYPE: ANSWER \n",
                "\n",
                "def get_columns_in_range(dataframe, first_column, last_column):\n",
                "    ###\n",
                "    ### YOUR CODE HERE\n",
                "    ###\n"
            ]
        },
        {
            "cell_type": "code",
            "execution_count": null,
            "metadata": {
                "collapsed": true
            },
            "outputs": [],
            "source": [
                "# 3.b.\n",
                "# ------------>>>>>>>> RUN THIS CODE CELL <<<<<<<<------------\n",
                "# --------  (run after implementation)\n",
                "# === CODE TYPE: SELF TESTING\n",
                "# Use the following code to test your implementation:\n",
                "\n",
                "file_name = 'data' + os.sep + 'flavors_of_cacao.csv'\n",
                "df_cocoa = load_csv(file_name)\n",
                "row_begin_range, row_end_range = 1310, 1320\n",
                "df_rows_in_range = get_rows_in_range(df_cocoa, row_begin_range, row_end_range)\n",
                "col_begin_range, col_end_range = 4, 6\n",
                "df_cols_in_ranged = get_columns_in_range(df_rows_in_range, col_begin_range, col_end_range)\n",
                "###\n",
                "### YOUR CODE HERE\n",
                "###\n"
            ]
        },
        {
            "cell_type": "code",
            "execution_count": null,
            "metadata": {
                "collapsed": true
            },
            "outputs": [],
            "source": [
                "# 3.b.\n",
                "# ------------>>>>>>>> RUN THIS CODE CELL <<<<<<<<------------\n",
                "# --------  (run after implementation, if used)\n",
                "# === CODE TYPE: SELF TESTING\n",
                "# Add your additional tests here if needed:\n",
                "\n",
                "###\n",
                "### YOUR CODE HERE\n",
                "###\n"
            ]
        },
        {
            "cell_type": "code",
            "execution_count": null,
            "metadata": {
                "nbgrader": {
                    "grade": true,
                    "grade_id": "test-3b_1-col-in-range",
                    "locked": true,
                    "points": "0.2",
                    "solution": false
                },
                "editable": false,
                "deletable": false
            },
            "outputs": [],
            "source": [
                "# 3.b.\n",
                "# ------------>>>>>>>> RUN THIS CODE CELL <<<<<<<<------------\n",
                "# --------  (run only)\n",
                "# === CODE TYPE: GRADED TEST \n",
                "\n",
                "print (\"Part 3.b. - Test 1 (0.2 points) - Sanity\")\n",
                "print (\"\\t--->Testing the implementation of 'get_columns_in_range' ...\")\n",
                "\n",
                "try:\n",
                "    file_name = 'data' + os.sep + 'flavors_of_cacao.csv'\n",
                "    df_chocolate = load_csv(file_name)\n",
                "    df_ranged = get_columns_in_range(df_chocolate, 4, 6)\n",
                "except Exception as e:\n",
                "    print ('You probably have a syntax error, we got the following exception:')\n",
                "    print (str(e))\n",
                "    \n",
                "print (\"Good Job!\\nYou've passed the 1st test for the 'get_columns_in_range' function implementation :-)\")    "
            ]
        },
        {
            "cell_type": "code",
            "execution_count": null,
            "metadata": {
                "nbgrader": {
                    "grade": true,
                    "grade_id": "test-3b_2-col-in-range",
                    "locked": true,
                    "points": "0.5",
                    "solution": false
                },
                "editable": false,
                "deletable": false
            },
            "outputs": [],
            "source": [
                "# 3.b.\n",
                "# ------------>>>>>>>> RUN THIS CODE CELL <<<<<<<<------------\n",
                "# --------  (run only)\n",
                "# === CODE TYPE: GRADED TEST \n",
                "\n",
                "print (\"Part 3.b. - Test 2 (0.5 points)\")\n",
                "print (\"\\t--->Testing the implementation of 'get_columns_in_range' ...\")\n",
                "\n",
                "try:\n",
                "    file_name = 'data' + os.sep + 'flavors_of_cacao.csv'\n",
                "    df_chocolate = load_csv(file_name)\n",
                "    df_ranged = get_columns_in_range(df_chocolate, 4, 6)\n",
                "    num_of_rows    = get_number_of_rows(df_ranged)\n",
                "    num_of_columns = get_number_of_columns(df_ranged)\n",
                "    print ('Num of rows=%d' %(num_of_rows))\n",
                "    print ('Num of columns=%d' %(num_of_columns))\n",
                "except Exception as e:\n",
                "    print ('You probably have a syntax error, we got the following exception:')\n",
                "    print (str(e))\n",
                "    \n",
                "assert num_of_columns==2, \"Wrong number of columns\"\n",
                "\n",
                "print (\"Good Job!\\nYou've passed the 2nd test for the 'get_columns_in_range' function implementation :-)\")   \n",
                "\n",
                "print ('\\nSub dataframe:')\n",
                "df_ranged"
            ]
        },
        {
            "cell_type": "code",
            "execution_count": null,
            "metadata": {
                "nbgrader": {
                    "grade": true,
                    "grade_id": "test-3b_3-col-in-range",
                    "locked": true,
                    "points": "0.6",
                    "solution": false
                },
                "editable": false,
                "deletable": false
            },
            "outputs": [],
            "source": [
                "# 3.b.\n",
                "# ------------>>>>>>>> RUN THIS CODE CELL <<<<<<<<------------\n",
                "# --------  (run only)\n",
                "# === CODE TYPE: GRADED TEST \n",
                "\n",
                "print (\"Part 3.b. - Test 3 (0.6 points)\")\n",
                "print (\"\\t--->Testing the implementation of 'get_columns_in_range' ...\")\n",
                "\n",
                "try:\n",
                "    file_name = 'data' + os.sep + 'flavors_of_cacao.csv'\n",
                "    df_chocolate = load_csv(file_name)\n",
                "    df_ranged_rows = get_rows_in_range(df_chocolate, 1310, 1320)\n",
                "    df_ranged = get_columns_in_range(df_ranged_rows, 4, 6)\n",
                "    num_of_rows    = get_number_of_rows(df_ranged)\n",
                "    num_of_columns = get_number_of_columns(df_ranged)\n",
                "    print ('Num of rows=%d' %(num_of_rows))\n",
                "    print ('Num of columns=%d' %(num_of_columns))\n",
                "except Exception as e:\n",
                "    print ('You probably have a syntax error, we got the following exception:')\n",
                "    print (str(e))\n",
                "    \n",
                "assert num_of_rows==10 and num_of_columns==2, \"Wrong number of rows or columns\"\n",
                "\n",
                "print (\"Good Job!\\nYou've passed the 3rd test for the 'get_columns_in_range' function implementation :-)\")   \n",
                "\n",
                "print ('\\nSub dataframe:')\n",
                "df_ranged"
            ]
        },
        {
            "cell_type": "markdown",
            "metadata": {
                "nbgrader": {
                    "grade": false,
                    "locked": true,
                    "solution": false
                },
                "editable": false,
                "deletable": false
            },
            "source": [
                "### 4. Conditional Selection of data:"
            ]
        },
        {
            "cell_type": "markdown",
            "metadata": {
                "nbgrader": {
                    "grade": false,
                    "locked": true,
                    "solution": false
                },
                "editable": false,
                "deletable": false
            },
            "source": [
                "#### 4.a. Select rows by cell value"
            ]
        },
        {
            "cell_type": "markdown",
            "metadata": {},
            "source": [
                "### Instructions\n",
                "<u>method name<\/u>: <b>select_rows_by_cell_val<\/b>\n",
                "<pre>The following is expected:\n",
                "--- Complete the 'select_rows_by_cell_val' function to return only the rows \n",
                "    in a pandas dataframe, given in the parameter 'dataframe', which \n",
                "    match the 'matching_val' value of in the cell in the 'col_name' column.\n",
                "<\/pre>"
            ]
        },
        {
            "cell_type": "code",
            "execution_count": null,
            "metadata": {
                "collapsed": true
            },
            "outputs": [],
            "source": [
                "# 4.a.\n",
                "# ------------>>>>>>>> RUN THIS CODE CELL <<<<<<<<------------\n",
                "# --------  (run after implementation)\n",
                "# === CODE TYPE: ANSWER \n",
                "\n",
                "def select_rows_by_cell_val(dataframe, col_name, matching_val):\n",
                "    ###\n",
                "    ### YOUR CODE HERE\n",
                "    ###\n"
            ]
        },
        {
            "cell_type": "code",
            "execution_count": null,
            "metadata": {
                "collapsed": true
            },
            "outputs": [],
            "source": [
                "# 4.a.\n",
                "# ------------>>>>>>>> RUN THIS CODE CELL <<<<<<<<------------\n",
                "# --------  (run after implementation)\n",
                "# === CODE TYPE: SELF TESTING\n",
                "# Use the following code to test your implementation:\n",
                "\n",
                "file_name = 'data' + os.sep + 'flavors_of_cacao.csv'\n",
                "df_cocoa = load_csv(file_name)\n",
                "col_name_1, col_val_1 = 'Bean Type', 'Forastero'\n",
                "col_name_3, col_val_3 = 'Cocoa Percent', '100%'\n",
                "df_rows_pass_cond_1 = select_rows_by_cell_val(df_cocoa, col_name_1, col_val_1)\n",
                "df_rows_pass_cond_1_3 = select_rows_by_cell_val(df_rows_pass_cond_1, col_name_3, col_val_3)\n",
                "###\n",
                "### YOUR CODE HERE\n",
                "###\n"
            ]
        },
        {
            "cell_type": "code",
            "execution_count": null,
            "metadata": {
                "collapsed": true
            },
            "outputs": [],
            "source": [
                "# 4.a.\n",
                "# ------------>>>>>>>> RUN THIS CODE CELL <<<<<<<<------------\n",
                "# --------  (run after implementation, if used)\n",
                "# === CODE TYPE: SELF TESTING\n",
                "# Add your additional tests here if needed:\n",
                "\n",
                "###\n",
                "### YOUR CODE HERE\n",
                "###\n"
            ]
        },
        {
            "cell_type": "code",
            "execution_count": null,
            "metadata": {
                "nbgrader": {
                    "grade": true,
                    "grade_id": "test-4a_1-cond-match",
                    "locked": true,
                    "points": "0.2",
                    "solution": false
                },
                "editable": false,
                "deletable": false
            },
            "outputs": [],
            "source": [
                "# 4.a.\n",
                "# ------------>>>>>>>> RUN THIS CODE CELL <<<<<<<<------------\n",
                "# --------  (run only)\n",
                "# === CODE TYPE: GRADED TEST \n",
                "\n",
                "print (\"Part 4.a. - Test 1 (0.2 points) - Sanity\")\n",
                "print (\"\\t--->Testing the implementation of 'select_rows_by_cell_val' ...\\n\")\n",
                "\n",
                "try:\n",
                "    file_name = 'data' + os.sep + 'flavors_of_cacao.csv'\n",
                "    df_chocolate = load_csv(file_name)\n",
                "    df_passes_cond_1 = select_rows_by_cell_val(df_chocolate, 'Bean Type', 'Forastero')\n",
                "except Exception as e:\n",
                "    print ('You probably have a syntax error, we got the following exception:')\n",
                "    print (str(e))\n",
                "\n",
                "print (\"Good Job!\\nYou've passed the 1st test for the 'select_rows_by_cell_val' function implementation :-)\")   "
            ]
        },
        {
            "cell_type": "code",
            "execution_count": null,
            "metadata": {
                "nbgrader": {
                    "grade": true,
                    "grade_id": "test-4a_2-cond-match",
                    "locked": true,
                    "points": "0.5",
                    "solution": false
                },
                "editable": false,
                "deletable": false
            },
            "outputs": [],
            "source": [
                "# 4.a.\n",
                "# ------------>>>>>>>> RUN THIS CODE CELL <<<<<<<<------------\n",
                "# --------  (run only)\n",
                "# === CODE TYPE: GRADED TEST \n",
                "\n",
                "print (\"Part 4.a. - Test 2 (0.5 points)\")\n",
                "print (\"\\t--->Testing the implementation of 'select_rows_by_cell_val' ...\\n\")\n",
                "\n",
                "try:\n",
                "    file_name = 'data' + os.sep + 'flavors_of_cacao.csv'\n",
                "    df_chocolate = load_csv(file_name)\n",
                "    df_passes_cond_1 = select_rows_by_cell_val(df_chocolate, 'Bean Type', 'Forastero')\n",
                "    num_of_rows    = get_number_of_rows(df_passes_cond_1)\n",
                "    num_of_columns = get_number_of_columns(df_passes_cond_1)\n",
                "except Exception as e:\n",
                "    print ('You probably have a syntax error, we got the following exception:')\n",
                "    print (str(e))\n",
                "    \n",
                "assert num_of_rows==87 and num_of_columns==9, \"Wrong number of rows or columns\"\n",
                "\n",
                "print (\"Good Job!\\nYou've passed the 2nd test for the 'select_rows_by_cell_val' function implementation :-)\")   \n",
                "\n",
                "print ('First few rows of the dataframe passing 1st condition:')\n",
                "df_passes_cond_1.head()"
            ]
        },
        {
            "cell_type": "code",
            "execution_count": null,
            "metadata": {
                "nbgrader": {
                    "grade": true,
                    "grade_id": "test-4a_3-cond-match",
                    "locked": true,
                    "points": "0.5",
                    "solution": false
                },
                "editable": false,
                "deletable": false
            },
            "outputs": [],
            "source": [
                "# 4.a.\n",
                "# ------------>>>>>>>> RUN THIS CODE CELL <<<<<<<<------------\n",
                "# --------  (run only)\n",
                "# === CODE TYPE: GRADED TEST \n",
                "\n",
                "print (\"Part 4.a. - Test 3 (0.5 points)\")\n",
                "print (\"\\t--->Testing the implementation of 'select_rows_by_cell_val'\")\n",
                "print (\"\\t\\t====> Full grading test - the following test can not be seen before submission ...\")\n",
                "\n",
                "###\n",
                "### AUTOGRADER TEST - DO NOT REMOVE\n",
                "###\n"
            ]
        },
        {
            "cell_type": "markdown",
            "metadata": {
                "nbgrader": {
                    "grade": false,
                    "locked": true,
                    "solution": false
                },
                "editable": false,
                "deletable": false
            },
            "source": [
                "#### 4.b. Select rows with value in given range"
            ]
        },
        {
            "cell_type": "markdown",
            "metadata": {},
            "source": [
                "### Instructions\n",
                "<u>method name<\/u>: <b>select_rows_w_vals_in_range<\/b>\n",
                "<pre>The following is expected:\n",
                "--- Complete the 'select_rows_w_vals_in_range' function to return only the rows \n",
                "    in a pandas dataframe, given in the parameter 'dataframe', for which \n",
                "    the values of some column given in the 'col_name' parameter, are \n",
                "    between the 'lower_range' and 'higher_range' (inculding lower_range and higher_range)\n",
                "<\/pre>"
            ]
        },
        {
            "cell_type": "code",
            "execution_count": null,
            "metadata": {
                "collapsed": true
            },
            "outputs": [],
            "source": [
                "# 4.b.\n",
                "# ------------>>>>>>>> RUN THIS CODE CELL <<<<<<<<------------\n",
                "# --------  (run after implementation)\n",
                "# === CODE TYPE: ANSWER \n",
                "\n",
                "def select_rows_w_vals_in_range(dataframe, col_name, lower_range, higher_range):\n",
                "    ###\n",
                "    ### YOUR CODE HERE\n",
                "    ###\n"
            ]
        },
        {
            "cell_type": "code",
            "execution_count": null,
            "metadata": {
                "collapsed": true
            },
            "outputs": [],
            "source": [
                "# 4.b.\n",
                "# ------------>>>>>>>> RUN THIS CODE CELL <<<<<<<<------------\n",
                "# --------  (run after implementation)\n",
                "# === CODE TYPE: SELF TESTING\n",
                "# Use the following code to test your implementation:\n",
                "\n",
                "file_name = 'data' + os.sep + 'flavors_of_cacao.csv'\n",
                "df_cocoa = load_csv(file_name)\n",
                "col_name_1, col_val_1 = 'Bean Type', 'Forastero'\n",
                "col_name_2, col_lower_val_2, col_upper_val_2 = 'Review Date', 2015, 2017\n",
                "df_rows_pass_cond_1 = select_rows_by_cell_val(df_cocoa, col_name_1, col_val_1)\n",
                "df_rows_pass_cond_1_2 = select_rows_w_vals_in_range(df_rows_pass_cond_1, col_name_2, col_lower_val_2, col_upper_val_2)\n",
                "###\n",
                "### YOUR CODE HERE\n",
                "###\n"
            ]
        },
        {
            "cell_type": "code",
            "execution_count": null,
            "metadata": {
                "collapsed": true
            },
            "outputs": [],
            "source": [
                "# 4.b.\n",
                "# ------------>>>>>>>> RUN THIS CODE CELL <<<<<<<<------------\n",
                "# --------  (run after implementation, if used)\n",
                "# === CODE TYPE: SELF TESTING\n",
                "# Add your additional tests here if needed:\n",
                "\n",
                "###\n",
                "### YOUR CODE HERE\n",
                "###\n"
            ]
        },
        {
            "cell_type": "code",
            "execution_count": null,
            "metadata": {
                "nbgrader": {
                    "grade": true,
                    "grade_id": "test-4b_1-cond-range",
                    "locked": true,
                    "points": "0.2",
                    "solution": false
                },
                "editable": false,
                "deletable": false
            },
            "outputs": [],
            "source": [
                "# 4.b.\n",
                "# ------------>>>>>>>> RUN THIS CODE CELL <<<<<<<<------------\n",
                "# --------  (run only)\n",
                "# === CODE TYPE: GRADED TEST \n",
                "\n",
                "print (\"Part 4.b. - Test 1 (0.2 points) - Sanity\")\n",
                "print (\"\\t--->Testing the implementation of 'select_rows_w_vals_in_range' ...\")\n",
                "\n",
                "try:\n",
                "    file_name = 'data' + os.sep + 'flavors_of_cacao.csv'\n",
                "    df_chocolate = load_csv(file_name)\n",
                "    df_passes_cond_2 = select_rows_w_vals_in_range(df_chocolate, 'Review Date', 2015, 2017)\n",
                "except Exception as e:\n",
                "    print ('You probably have a syntax error, we got the following exception:')\n",
                "    print (str(e))\n",
                "\n",
                "print (\"Good Job!\\nYou've passed the 1st test for the 'select_rows_w_vals_in_range' function implementation :-)\")       "
            ]
        },
        {
            "cell_type": "code",
            "execution_count": null,
            "metadata": {
                "nbgrader": {
                    "grade": true,
                    "grade_id": "test-4b_2-cond-range",
                    "locked": true,
                    "points": "0.5",
                    "solution": false
                },
                "editable": false,
                "deletable": false
            },
            "outputs": [],
            "source": [
                "# 4.b.\n",
                "# ------------>>>>>>>> RUN THIS CODE CELL <<<<<<<<------------\n",
                "# --------  (run only)\n",
                "# === CODE TYPE: GRADED TEST \n",
                "\n",
                "print (\"Part 4.b. - Test 2 (0.5 points)\")\n",
                "print (\"\\t--->Testing the implementation of 'select_rows_by_cell_val' and 'select_rows_w_vals_in_range' ...\")\n",
                "\n",
                "try:\n",
                "    file_name = 'data' + os.sep + 'flavors_of_cacao.csv'\n",
                "    df_chocolate = load_csv(file_name)\n",
                "    df_passes_cond_1 = select_rows_by_cell_val(df_chocolate, 'Bean Type', 'Forastero')\n",
                "    df_passes_cond_1_2 = select_rows_w_vals_in_range(df_passes_cond_1, 'Review Date', 2015, 2017)\n",
                "    num_of_rows    = get_number_of_rows(df_passes_cond_1_2)\n",
                "    num_of_columns = get_number_of_columns(df_passes_cond_1_2)\n",
                "    print ('Num of rows=%d' %(num_of_rows))\n",
                "    print ('Num of columns=%d' %(num_of_columns))\n",
                "except Exception as e:\n",
                "    print ('You probably have a syntax error, we got the following exception:')\n",
                "    print (str(e))\n",
                "\n",
                "assert num_of_rows==14 and num_of_columns==9, \"Wrong number of rows or columns passing conditions 1, 2\"\n",
                "\n",
                "print (\"Good Job!\\nYou've passed the 2nd test for the 'select_rows_by_cell_val' and 'select_rows_w_vals_in_range' function implementation :-)\")       \n",
                "\n",
                "print ('First few rows of the dataframe passing the conditions:')\n",
                "df_passes_cond_1_2.head()"
            ]
        },
        {
            "cell_type": "code",
            "execution_count": null,
            "metadata": {
                "nbgrader": {
                    "grade": true,
                    "grade_id": "test-4b_3-cond-range",
                    "locked": true,
                    "points": "0.6",
                    "solution": false
                },
                "editable": false,
                "deletable": false
            },
            "outputs": [],
            "source": [
                "# 4.b.\n",
                "# ------------>>>>>>>> RUN THIS CODE CELL <<<<<<<<------------\n",
                "# --------  (run only)\n",
                "# === CODE TYPE: GRADED TEST \n",
                "\n",
                "print (\"Part 4.b. - Test 3 (0.6 points)\")\n",
                "print (\"\\t--->Testing the implementation of 'select_rows_by_cell_val' and 'select_rows_w_vals_in_range' ...\")\n",
                "print (\"\\n\\t====> Full grading test - the following test can not be seen before submission\")\n",
                "\n",
                "###\n",
                "### AUTOGRADER TEST - DO NOT REMOVE\n",
                "###\n"
            ]
        }
    ],
    "metadata": {
        "kernelspec": {
            "display_name": "Python 3 [3.6]",
            "language": "python",
            "name": "python3"
        },
        "language_info": {
            "codemirror_mode": {
                "name": "ipython",
                "version": 3
            },
            "file_extension": ".py",
            "mimetype": "text\/x-python",
            "name": "python",
            "nbconvert_exporter": "python",
            "pygments_lexer": "ipython3",
            "version": "3.6.4"
        }
    },
    "nbformat": 4,
    "nbformat_minor": 2
}