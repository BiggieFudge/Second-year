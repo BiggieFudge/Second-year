{
    "cells": [
        {
            "cell_type": "markdown",
            "metadata": {
                "slideshow": {
                    "slide_type": "slide"
                }
            },
            "source": [
                "<img src=\".\/images\/Banner_NB.png\">"
            ]
        },
        {
            "cell_type": "markdown",
            "metadata": {
                "slideshow": {
                    "slide_type": "slide"
                }
            },
            "source": [
                "# Linear Regression - Teaching Notebook\n",
                "\n",
                "\n"
            ]
        },
        {
            "cell_type": "markdown",
            "metadata": {
                "slideshow": {
                    "slide_type": "slide"
                }
            },
            "source": [
                "<a name='top'><\/a>\n",
                "In the previous videos we started to learn about linear regression. In this notebook we will learn how to implement it in Python using sklearn. The notebook is divided into 3 parts:\n",
                "\n",
                "- **Part 1:** to be practiced after video that describes the basic use of linear regression\n",
                "- **Part 2:** (<a href=#bookmark_p2>quick link<\/a>) to be practiced after you learned about evaluation methods for linear regression, in particular R^2\n",
                "- **Part 3:** (<a href=#bookmark_p3>quick link<\/a>) to be practiced after you learned about non linear regression and more complex regression models\n",
                "\n"
            ]
        },
        {
            "cell_type": "markdown",
            "metadata": {
                "slideshow": {
                    "slide_type": "slide"
                }
            },
            "source": [
                "## Part 1 - Simple Linear Regression Implementation\n",
                "\n",
                "In this part we will focus on the following five main topics:\n",
                "+ Using the sklearn module for linear regression (`linear_model`)\n",
                "+ Get familiar with the advertising data set that we use\n",
                "+ Basic data set visualization for hints for regression results\n",
                "+ Learn a linear regression model (using `fit` and apply `predict` for forecasting).\n",
                "+ Investigation of the linear regression model (looking into `coef_` and `intercept`)\n"
            ]
        },
        {
            "cell_type": "markdown",
            "metadata": {
                "slideshow": {
                    "slide_type": "slide"
                }
            },
            "source": [
                "### Using sklearn for linear regression\n",
                "\n",
                "In this course we'll use the linear regression implementation that is part of scikit-learn. There are also other packages (that are not part of this course, such as [statsmodels](http:\/\/statsmodels.sourceforge.net\/) and [SciPy](http:\/\/www.scipy.org\/) ).\n",
                "\n",
                "As usual we will star by importing the relevant modules. Note the `linear_model` import."
            ]
        },
        {
            "cell_type": "code",
            "execution_count": null,
            "metadata": {
                "slideshow": {
                    "slide_type": "slide"
                }
            },
            "outputs": [],
            "source": [
                "# imports \n",
                "import numpy as np\n",
                "import pandas as pd\n",
                "from sklearn import linear_model\n",
                "\n",
                "\n",
                "#and visualization setup\n",
                "import matplotlib.pyplot as plt\n",
                "%matplotlib inline  \n",
                "plt.rcParams['figure.figsize'] = (10, 6)\n",
                "\n",
                "from mpl_toolkits.mplot3d import Axes3D\n",
                "from matplotlib import cm"
            ]
        },
        {
            "cell_type": "markdown",
            "metadata": {
                "slideshow": {
                    "slide_type": "subslide"
                }
            },
            "source": [
                " \n",
                "\n",
                "\n",
                "### Advertising dataset\n",
                "To illustrate linear regression, we'll use the 'Advertising' dataset from\n",
                "[here](http:\/\/www-bcf.usc.edu\/~gareth\/ISL\/data.html)\n",
                "\n",
                "\n",
                "For 200 different \u2018markets\u2019 (think different cities), this dataset consists of the number of sales of a particular product as well as the advertising budget for different media: Digital, radio, and newspaper. \n",
                "\n",
                "We\u2019ll use linear regression to study the effect of advertising on sales. \n",
                "Here, sales is the dependent variable and the budgets are the independent variables. This might help inform or evaluate an advertising strategy for this product.  "
            ]
        },
        {
            "cell_type": "code",
            "execution_count": null,
            "metadata": {
                "slideshow": {
                    "slide_type": "slide"
                }
            },
            "outputs": [],
            "source": [
                "advert = pd.read_csv('.\/data\/Advertising.csv',index_col=0) #load data\n",
                "advert.head(10)"
            ]
        },
        {
            "cell_type": "markdown",
            "metadata": {
                "slideshow": {
                    "slide_type": "slide"
                }
            },
            "source": [
                "### Basic data visulaization for hints on regression\n",
                "\n",
                "First, we will start with initial description of the data (do you know what command?) and then will do some visualization"
            ]
        },
        {
            "cell_type": "code",
            "execution_count": null,
            "metadata": {
                "slideshow": {
                    "slide_type": "subslide"
                }
            },
            "outputs": [],
            "source": [
                "advert.describe()"
            ]
        },
        {
            "cell_type": "markdown",
            "metadata": {
                "slideshow": {
                    "slide_type": "slide"
                }
            },
            "source": [
                "Now let's visualize the data. As you recall from the video lecture, we will start with a scatter plot, with different indication for each advertising channel. "
            ]
        },
        {
            "cell_type": "code",
            "execution_count": null,
            "metadata": {
                "slideshow": {
                    "slide_type": "subslide"
                }
            },
            "outputs": [],
            "source": [
                "plt.scatter(x=advert['Digital'],y=advert['Sales'],c='r',marker='s',label='Digital')\n",
                "plt.scatter(x=advert['Radio'],y=advert['Sales'],c='b',marker='o',label='Radio')\n",
                "plt.scatter(x=advert['Newspaper'],y=advert['Sales'],c='k',marker='*',label='Newspaper')\n",
                "\n",
                "plt.legend(numpoints=1,loc=4)\n",
                "plt.xlabel('Ad budget (Thousands of dollars)')\n",
                "plt.ylabel('Sales (units of product)')\n",
                "plt.show()"
            ]
        },
        {
            "cell_type": "markdown",
            "metadata": {
                "slideshow": {
                    "slide_type": "subslide"
                }
            },
            "source": [
                "What do you see in the data and plot?"
            ]
        },
        {
            "cell_type": "markdown",
            "metadata": {
                "slideshow": {
                    "slide_type": "slide"
                }
            },
            "source": [
                "#### Observations \n",
                "1. From the plot, it is clear that there is a relationship between the advertising budgets and sales. Basically, the more money spent, the larger the number of sales. \n",
                "+  The most money was spent on Digital advertising. The amount for Radio and Newspaper is about the same in all markets, whereas the standard deviation for TV advertising is larger. \n",
                "\n"
            ]
        },
        {
            "cell_type": "markdown",
            "metadata": {
                "slideshow": {
                    "slide_type": "subslide"
                }
            },
            "source": [
                "#### Questions\n",
                "1. How can we quantify the relationship between advertising and sales? Can we predict the effect of each ad media on sales? Is the relationship linear? \n",
                "+  Which of the different ad media (Digital, Radio, Newspaper) are the most effective at generating sales? \n",
                "+  Are there interactions between the different ad media?\n",
                "\n",
                "First, let's just look at the **effect of Digital advertising on sales**. We use the linear regression model\n",
                "$$\n",
                "Sales = \\beta_0 + \\beta_1 * Digital.\n",
                "$$\n"
            ]
        },
        {
            "cell_type": "markdown",
            "metadata": {
                "slideshow": {
                    "slide_type": "slide"
                }
            },
            "source": [
                "### Build our first linear regression model\n",
                "\n",
                "Let's build our first linear regression model. For that we will use the `LinearRegression()` class and train the model using it's `fit` function. As mentioned before, we will start by building a model that predicts the sales only based on Digital advertising. Therefore, in the call to  `fit`, we pass as $X$ only the column of $Digital$ (expressed as `advert.iloc[:,0:1]` ). "
            ]
        },
        {
            "cell_type": "code",
            "execution_count": null,
            "metadata": {
                "collapsed": true,
                "slideshow": {
                    "slide_type": "subslide"
                }
            },
            "outputs": [],
            "source": [
                "# build our fist linear regression model\n",
                "m=linear_model.LinearRegression().fit(advert.iloc[:,0:1],advert.iloc[:,3:])\n"
            ]
        },
        {
            "cell_type": "markdown",
            "metadata": {
                "slideshow": {
                    "slide_type": "subslide"
                }
            },
            "source": [
                "That's it, now in `m` we have our linear regression model. Easy, isn't it?"
            ]
        },
        {
            "cell_type": "markdown",
            "metadata": {
                "slideshow": {
                    "slide_type": "subslide"
                }
            },
            "source": [
                "### Apply the model (using `predict`)\n",
                "Let's use the model, and see what would the prediction of number of sales based on the Digital advertising budget. We will use the same scatter plot as before to show the actual sales based on Digital advertisng, but also add a line that represents the sales prediction according to the linear regression model. You can see below, how we use the `predict` function of the model, to express the sales prediction."
            ]
        },
        {
            "cell_type": "code",
            "execution_count": null,
            "metadata": {
                "scrolled": true,
                "slideshow": {
                    "slide_type": "subslide"
                }
            },
            "outputs": [],
            "source": [
                "plt.scatter(x=advert['Digital'],y=advert['Sales'],c='k',marker='*',label='Digital')\n",
                "plt.plot(advert['Digital'],m.predict(advert.iloc[:,0:1]),'k',color='blue',linewidth=3)\n",
                "\n",
                "plt.xlabel('Digital budget (Thousands of dollars)')\n",
                "plt.ylabel('Sales (Thousand units of product)')\n",
                "plt.show()"
            ]
        },
        {
            "cell_type": "markdown",
            "metadata": {
                "slideshow": {
                    "slide_type": "subslide"
                }
            },
            "source": [
                "### Investigate the model\n",
                "\n",
                "But what are the values of  ${\\beta}_0$ and ${\\beta}_1$\n",
                "\n"
            ]
        },
        {
            "cell_type": "code",
            "execution_count": null,
            "metadata": {
                "slideshow": {
                    "slide_type": "subslide"
                }
            },
            "outputs": [],
            "source": [
                "# let's look inside the model\n",
                "print(\"b1:\",m.coef_)\n",
                "print(\"b0:\",m.intercept_)"
            ]
        },
        {
            "cell_type": "markdown",
            "metadata": {
                "slideshow": {
                    "slide_type": "slide"
                }
            },
            "source": [
                "#### Interpretation and discussion\n",
                "\n",
                "The intercept of the line is $\\hat{\\beta}_0 = 7.032$. This means that without any Digital advertising, the model predicts that 7,032 units of product will be sold. \n",
                "\n",
                "The slope of the line is $\\hat{\\beta}_1 = 0.0475$. This means that the model predicts that for every additional $1k spent on TV advertising, an additional 47.5 units of product are sold. \n",
                "\n",
                "Are these good results? This is the time to go back to the course site, and watch the next vidoes. Come back to Part 2 of this notebook once you learned the evaluation method videos, and you are referred back to this notebook.\n",
                "\n",
                "(link to top is <a href=\"#top\">here<\/a>)"
            ]
        },
        {
            "cell_type": "markdown",
            "metadata": {
                "slideshow": {
                    "slide_type": "slide"
                }
            },
            "source": [
                "<a name='bookmark_p2'><\/a>\n",
                "## Part 2 - Linear Regression - Evaluation Method and multivariate regression\n",
                "\n",
                "In this part we will focus on the following three main topics:\n",
                "+ Evaluation metrics for linear regression, including: $SSR$ and $R^2$\n",
                "+ Linear regression model predicting sales as a function of Radio advertisement or Newspaper advertisement (separate models one for each attribute)\n",
                "+ Multi-variate linear regression - combing Digital, Newspaper and Radio into a single model"
            ]
        },
        {
            "cell_type": "markdown",
            "metadata": {
                "slideshow": {
                    "slide_type": "subslide"
                }
            },
            "source": [
                "### Evaluation metrics\n",
                "\n",
                "One way to measure the quality of the fit is to look at the sum of the squared error,\n",
                "$$\n",
                "SSE = \\sum_{i=1}^n (y_i - \\hat{\\beta}_0 - \\hat{\\beta}_1 x_i)^2. \n",
                "$$\n",
                "\n",
                "We don't have exactly a method for this in python, we can either calculate it ourselves, as below (or do some post processing to an existing sklearn method called `mean_squared_error` - which we'll show you soon)"
            ]
        },
        {
            "cell_type": "code",
            "execution_count": null,
            "metadata": {
                "slideshow": {
                    "slide_type": "subslide"
                }
            },
            "outputs": [],
            "source": [
                "def sse(Y, Y_HAT):  \n",
                "    sse = sum([(y - y_hat)**2 for y,y_hat in zip(Y, Y_HAT)])\n",
                "    return sse\n",
                "\n",
                "SSE = sse(advert.Sales.tolist(),m.predict(advert.iloc[:,0:1]).flatten())\n",
                "\n",
                "print(SSE)\n"
            ]
        },
        {
            "cell_type": "markdown",
            "metadata": {
                "slideshow": {
                    "slide_type": "subslide"
                }
            },
            "source": [
                "Alternatively, we can use the method of [`mean_squared_error`](https:\/\/scikit-learn.org\/stable\/modules\/generated\/sklearn.metrics.mean_squared_error.html#sklearn.metrics.mean_squared_error). However, since it calculates the mean, we need to multiply the output we get with the number of items that we predicted. See below"
            ]
        },
        {
            "cell_type": "code",
            "execution_count": null,
            "metadata": {
                "slideshow": {
                    "slide_type": "subslide"
                }
            },
            "outputs": [],
            "source": [
                "from sklearn.metrics import mean_squared_error\n",
                "\n",
                "mean_squared_error(advert.Sales.tolist(),m.predict(advert.iloc[:,0:1]).flatten())*len(advert.Sales.tolist())"
            ]
        },
        {
            "cell_type": "markdown",
            "metadata": {
                "slideshow": {
                    "slide_type": "subslide"
                }
            },
            "source": [
                "We got exactly the same result, which is great! \n",
                "\n",
                "Let's analyze the result now. Is this a small or big error?\n",
                "...good question. This number, SSR, is difficult to interpret by itself. In next slide will see another mehtod.. any idea? \n",
                "\n"
            ]
        },
        {
            "cell_type": "markdown",
            "metadata": {
                "slideshow": {
                    "slide_type": "subslide"
                }
            },
            "source": [
                "Exactly... this is the **$R^2$ value** we saw in the lecture, this is a much more interpretable number. Luckily we have such a metric in sklearn, called [`r2_score`](https:\/\/scikit-learn.org\/stable\/modules\/generated\/sklearn.metrics.r2_score.html#sklearn.metrics.r2_score). Later in this section, we will see another way to get the $R^2$ score when building a model (stay tuned for the multivariate regression section..). Anyway, let's see the `r2_score` method\n"
            ]
        },
        {
            "cell_type": "code",
            "execution_count": null,
            "metadata": {},
            "outputs": [],
            "source": [
                "from sklearn.metrics import r2_score\n",
                "\n",
                "r2_score(advert.Sales.tolist(),m.predict(advert.iloc[:,0:1]).flatten())"
            ]
        },
        {
            "cell_type": "markdown",
            "metadata": {
                "slideshow": {
                    "slide_type": "subslide"
                }
            },
            "source": [
                "\n",
                "As you can see, in our model, the value is $R^2 = 0.612$, which isn't bad. The model explains $61\\%$ of the variability in sales. \n",
                "\n"
            ]
        },
        {
            "cell_type": "markdown",
            "metadata": {
                "slideshow": {
                    "slide_type": "subslide"
                }
            },
            "source": [
                "*Note*: for linear regression, the $R^2$ value is the same as correlation, but the $R^2$ value more easily generalizes to more complicated regression models than correlation, so the $R^2$ value is typically considered instead of correlation.\n",
                "\n",
                "![image](http:\/\/imgs.xkcd.com\/comics\/linear_regression.png)\n",
                "\n"
            ]
        },
        {
            "cell_type": "markdown",
            "metadata": {
                "slideshow": {
                    "slide_type": "slide"
                }
            },
            "source": [
                "###  Regression for Radio and Newspaper\n",
                "\n",
                "Recall that we not only know the ad budget for Digital, but also Radio and Newspaper. \n",
                "\n",
                "Next, let's repeat the linear regression analysis for the other types of advertisements. First for Radio and sales"
            ]
        },
        {
            "cell_type": "code",
            "execution_count": null,
            "metadata": {
                "collapsed": true,
                "slideshow": {
                    "slide_type": "subslide"
                }
            },
            "outputs": [],
            "source": [
                "lr_radio = linear_model.LinearRegression() # create a linear regression object\n",
                "\n",
                "# scikit-learn doesn't work as well with pandas, so we have to extract values \n",
                "x = advert['Radio'].values.reshape(advert['Radio'].shape[0],1)\n",
                "y = advert['Sales'].values.reshape(advert['Sales'].shape[0],1)\n",
                "\n",
                "lr_radio.fit(X=x, y=y)\n",
                "\n",
                "plt.scatter(x, y,  color='black')\n",
                "plt.plot(x, lr_radio.predict(x), color='blue', linewidth=3)\n",
                "\n",
                "plt.xlabel('Radio budget (Thousands of dollars)')\n",
                "plt.ylabel('Sales (Thousand units of product)')\n",
                "plt.show()\n",
                "\n",
                "print(\"Slope:\",lr_radio.coef_)\n",
                "print(\"Intercept:\",lr_radio.intercept_)\n",
                "print(\"R2:\",lr_radio.score(x,y))"
            ]
        },
        {
            "cell_type": "markdown",
            "metadata": {},
            "source": [
                "and now for Newspaper and sales"
            ]
        },
        {
            "cell_type": "code",
            "execution_count": null,
            "metadata": {
                "collapsed": true,
                "slideshow": {
                    "slide_type": "subslide"
                }
            },
            "outputs": [],
            "source": [
                "lr_newspaper = linear_model.LinearRegression() # create a linear regression object\n",
                "\n",
                "# scikit-learn doesn't work as well with pandas, so we have to extract values \n",
                "x = advert['Newspaper'].values.reshape(advert['Newspaper'].shape[0],1)\n",
                "y = advert['Sales'].values.reshape(advert['Sales'].shape[0],1)\n",
                "\n",
                "lr_newspaper.fit(X=x, y=y)\n",
                "\n",
                "plt.scatter(x, y,  color='black')\n",
                "plt.plot(x, lr_newspaper.predict(x), color='blue', linewidth=3)\n",
                "\n",
                "plt.xlabel('Newspaper budget (Thousands of dollars)')\n",
                "plt.ylabel('Sales (Thousand units of product)')\n",
                "plt.show()\n",
                "\n",
                "print(\"Slope:\",lr_newspaper.coef_)\n",
                "print(\"Intercept:\",lr_newspaper.intercept_)\n",
                "print(\"R2:\",lr_newspaper.score(x,y))"
            ]
        },
        {
            "cell_type": "markdown",
            "metadata": {
                "slideshow": {
                    "slide_type": "subslide"
                }
            },
            "source": [
                "Let's display all three models on a single plot with different colors:"
            ]
        },
        {
            "cell_type": "code",
            "execution_count": null,
            "metadata": {
                "collapsed": true,
                "slideshow": {
                    "slide_type": "subslide"
                }
            },
            "outputs": [],
            "source": [
                "plt.scatter(x=advert['Digital'],y=advert['Sales'],c='r',marker='s',label='Digital')\n",
                "plt.scatter(x=advert['Radio'],y=advert['Sales'],c='b',marker='o',label='Radio')\n",
                "plt.scatter(x=advert['Newspaper'],y=advert['Sales'],c='k',marker='*',label='Newspaper')\n",
                "plt.legend(numpoints=1,loc=4)\n",
                "\n",
                "plt.plot(advert['Digital'],m.predict(advert['Digital'].values.reshape(advert['Digital'].shape[0],1)),c='r',linewidth=3)\n",
                "plt.plot(advert['Radio'],lr_radio.predict(advert['Radio'].values.reshape(advert['Radio'].shape[0],1)),c='b',linewidth=3)\n",
                "plt.plot(advert['Newspaper'],lr_newspaper.predict(advert['Newspaper'].values.reshape(advert['Newspaper'].shape[0],1)),c='k',linewidth=3)\n",
                "\n",
                "plt.xlabel('Ad budget (Thousands of dollars)')\n",
                "plt.ylabel('Sales (units of product)')\n",
                "plt.show()\n"
            ]
        },
        {
            "cell_type": "markdown",
            "metadata": {
                "slideshow": {
                    "slide_type": "subslide"
                }
            },
            "source": [
                "What do you think? How do you interpert the results?"
            ]
        },
        {
            "cell_type": "markdown",
            "metadata": {
                "collapsed": true,
                "slideshow": {
                    "slide_type": "slide"
                }
            },
            "source": [
                "#### Interpretation\n",
                "\n",
                "*So what is the most effective advertising media?*\n",
                "\n",
                "The slope for radio is the largest, so you might argue that this is the most effective advertising media. For every additional \\$1k spent on Radio advertising, an additional 202 units of product are sold. (Compare to 54.7 for newspaper and 47.5 for TV.)\n",
                "\n",
                "On the other hand, the $R^2$ value for radio is just $33\\%$. So the model isn't explaining as much of the data as the model for Digital advertising ($R^2 = 61\\%$), but is explaining more than the model for newspaper advertising ($R^2 = 5\\%$). \n",
                "\n"
            ]
        },
        {
            "cell_type": "markdown",
            "metadata": {
                "slideshow": {
                    "slide_type": "subslide"
                }
            },
            "source": [
                "The main problem with the approach here is that for each advertising media we look at, we're ignoring the ads in the other media. For example, in the model for Digital advertising, \n",
                "$$\n",
                "Sales = \\beta_0 + \\beta_1 * Digital,\n",
                "$$\n",
                "we're ignoring both Radio and Newspaper advertising. \n",
                "\n",
                "We need to take all three into account at once. Maybe we can construct a model that looks like \n",
                "$$\n",
                "Sales = \\beta_0 + \\beta_1 * Digital + \\beta_2*Radio + \\beta_3*Newspaper. \n",
                "$$\n",
                "This is the idea behind Multiple Linear Regression. "
            ]
        },
        {
            "cell_type": "markdown",
            "metadata": {
                "slideshow": {
                    "slide_type": "slide"
                }
            },
            "source": [
                "## Multiple Linear Regression\n",
                "\n",
                "**Model:**\n",
                "$$\n",
                "Sales = \\beta_0 + \\beta_1 * Digital + \\beta_2*Radio + \\beta_3*Newspaper. \n",
                "$$\n"
            ]
        },
        {
            "cell_type": "markdown",
            "metadata": {
                "slideshow": {
                    "slide_type": "subslide"
                }
            },
            "source": [
                "We'll start by building and training the model, this time the features ($X$) as you can see has 3 columns (attributes)"
            ]
        },
        {
            "cell_type": "code",
            "execution_count": null,
            "metadata": {
                "collapsed": true,
                "slideshow": {
                    "slide_type": "subslide"
                }
            },
            "outputs": [],
            "source": [
                "lr = linear_model.LinearRegression() # create a linear regression object\n",
                "\n",
                "x = advert[['Newspaper',\"Radio\",\"Digital\"]]\n",
                "y = advert['Sales']\n",
                "lr.fit(X=x, y=y);\n",
                "\n",
                "\n",
                "\n"
            ]
        },
        {
            "cell_type": "markdown",
            "metadata": {
                "slideshow": {
                    "slide_type": "subslide"
                }
            },
            "source": [
                "When we analyze the model, instead of just getting $\\beta_0$ and $\\beta_1$ as before, we should get now $\\beta_1$, $\\beta_2$ and $\\beta_3$ (for each of the attributes)  - you can see them in the array we get from calling the `coef_` function, in addition to $\\beta_0$ that you still get from the `intercept_` command."
            ]
        },
        {
            "cell_type": "code",
            "execution_count": null,
            "metadata": {
                "collapsed": true,
                "slideshow": {
                    "slide_type": "subslide"
                }
            },
            "outputs": [],
            "source": [
                "print(\"Slope:\",lr.coef_)\n",
                "print(\"Intercept:\",lr.intercept_)\n"
            ]
        },
        {
            "cell_type": "markdown",
            "metadata": {},
            "source": [
                "In order to evaluate the mode it will be useful to get its $R^2$ value. One option is to use the `r2_score` method, another one is to use the model's `score` [function](https:\/\/scikit-learn.org\/stable\/modules\/generated\/sklearn.linear_model.LinearRegression.html#sklearn.linear_model.LinearRegression.score). The `score` function gets the $X$ and $y$ values used to train the regressor, and returns the $R^2$ value. See both functions before, and luckily they both return the same value..  "
            ]
        },
        {
            "cell_type": "code",
            "execution_count": null,
            "metadata": {
                "collapsed": true,
                "slideshow": {
                    "slide_type": "subslide"
                }
            },
            "outputs": [],
            "source": [
                "print(\"R2:\",lr.score(x,y))\n",
                "print(\"R2:\",r2_score(y,lr.predict(x.values)))"
            ]
        },
        {
            "cell_type": "markdown",
            "metadata": {
                "slideshow": {
                    "slide_type": "subslide"
                }
            },
            "source": [
                "So.. What is your interpertation of this model with multiple attributes? Is it better than single attrbiute ones? worse? Which attribute is more significant than others?"
            ]
        },
        {
            "cell_type": "markdown",
            "metadata": {
                "slideshow": {
                    "slide_type": "subslide"
                }
            },
            "source": [
                "#### Interpretation\n",
                "\n",
                "Spending an additional \\$1,000  on radio advertising results in an increase in sales by 189 units. Radio is the most effective at method of advertising. \n",
                " \n",
                "\n",
                "How about the other individual contributors?"
            ]
        },
        {
            "cell_type": "markdown",
            "metadata": {
                "slideshow": {
                    "slide_type": "subslide"
                }
            },
            "source": [
                "Let's look on the correlation between the attributes - maybe we have a confounding effect amonth them. \n",
                "Plotted below is also a scatter plot matrix, which is a good way of visualizing the correlations. "
            ]
        },
        {
            "cell_type": "code",
            "execution_count": null,
            "metadata": {
                "collapsed": true,
                "slideshow": {
                    "slide_type": "subslide"
                }
            },
            "outputs": [],
            "source": [
                "print(advert.corr())\n",
                "pd.plotting.scatter_matrix(advert, figsize=(10, 10), diagonal='kde')\n",
                "plt.show()"
            ]
        },
        {
            "cell_type": "markdown",
            "metadata": {
                "slideshow": {
                    "slide_type": "subslide"
                }
            },
            "source": [
                "The correlation between Newspaper and Radio is 0.35, which implies that in markets where the company advertised using Radio, they also advertised using newspaper. Thus, the influence of Radio on Sales can be incorrectly attributed to Newspaper advertisements! \n",
                "\n",
                "This leads us to the following linear regression model, where we forget about Newspaper advertisements:\n",
                "$$\n",
                "\\text{Sales} = \\beta_0 + \\beta_1 * \\text{Digital_budget} + \\beta_2*\\text{Radio_budget} \n",
                "$$\n"
            ]
        },
        {
            "cell_type": "code",
            "execution_count": null,
            "metadata": {
                "collapsed": true,
                "slideshow": {
                    "slide_type": "subslide"
                }
            },
            "outputs": [],
            "source": [
                "lr = linear_model.LinearRegression() # create a linear regression object\n",
                "\n",
                "# scikit-learn doesn't work as well with pandas, so we have to extract values \n",
                "x = advert[[\"Radio\",\"Digital\"]]\n",
                "y = advert['Sales']\n",
                "\n",
                "lr.fit(X=x, y=y)\n",
                "\n",
                "\n",
                "print(\"Slope:\",lr.coef_)\n",
                "print(\"Intercept:\",lr.intercept_)\n",
                "print(\"R2:\",lr.score(x,y))"
            ]
        },
        {
            "cell_type": "markdown",
            "metadata": {
                "slideshow": {
                    "slide_type": "subslide"
                }
            },
            "source": [
                "This model performs pretty well. It accounts for $R^2 = 90\\%$ of the variance in the data. "
            ]
        },
        {
            "cell_type": "markdown",
            "metadata": {},
            "source": [
                "Can we further improve the results? This is the time to go back to the course site, and watch the next vidoes. Come back to Part 3 of this notebook once you learned the non linear regression method videos, and you are referred back to this notebook.\n",
                "\n",
                "(Link to the <a href=\"#top\">top<\/a> of the notebook )"
            ]
        },
        {
            "cell_type": "markdown",
            "metadata": {},
            "source": [
                "<a name='bookmark_p3'> <\/a>\n",
                "## Part 3 - Non-Linear Regression \n",
                "\n",
                "In this part we will focus on the following two main topics:\n",
                "+ Nonlinear relationships and feature engineering\n",
                "+ Overfitting"
            ]
        },
        {
            "cell_type": "markdown",
            "metadata": {
                "slideshow": {
                    "slide_type": "slide"
                }
            },
            "source": [
                "## Nonlinear relationships\n",
                "\n",
                "We can consider the interaction between TV and Radio advertising in the model, by taking \n",
                "\n",
                "\n",
                "$$\n",
                "\\text{Sales} = \\beta_0 + \\beta_1 * \\text{Digital_budget} + \\beta_2*\\text{Radio_budget} + \\beta_3*\\text{Newspaper_budget} + \\beta_4 \\text{Digital_budget} *\\text{Radio_budget}. \n",
                "$$\n",
                "\n",
                "\n",
                "The rational behind the last term is that perhaps spending $x$ on television advertising and $y$ on radio advertising leads to more sales than simply $x+y$. In marketing this is known as the *synergy effect* and in statistics it is known as the *interaction effect*.\n",
                "\n",
                "**Note**: even though the relationship between the independent and dependent variables is nonlinear, the model is still linear. "
            ]
        },
        {
            "cell_type": "code",
            "execution_count": null,
            "metadata": {
                "collapsed": true,
                "slideshow": {
                    "slide_type": "subslide"
                }
            },
            "outputs": [],
            "source": [
                "lr = linear_model.LinearRegression() # create a linear regression object\n",
                "\n",
                "advert[\"DigitalxRadio\"]=advert[\"Radio\"]*advert[\"Digital\"]\n",
                "\n",
                "\n",
                "# scikit-learn doesn't work as well with pandas, so we have to extract values \n",
                "x = advert[[\"Radio\",\"Digital\",\"DigitalxRadio\"]].values.reshape(advert[[\"Radio\",\"Digital\",\"DigitalxRadio\"]].shape[0],3)\n",
                "y = advert['Sales'].values.reshape(advert['Sales'].shape[0],1)\n",
                "\n",
                "lr.fit(X=x, y=y)\n",
                "\n",
                "\n",
                "print(\"Slope:\",lr.coef_)\n",
                "print(\"Intercept:\",lr.intercept_)\n",
                "print(\"R2:\",lr.score(x,y))"
            ]
        },
        {
            "cell_type": "markdown",
            "metadata": {
                "slideshow": {
                    "slide_type": "subslide"
                }
            },
            "source": [
                "This model is really excellent. $R^2 = 97\\%$ of the variability in the data is accounted for by the model. "
            ]
        },
        {
            "cell_type": "markdown",
            "metadata": {
                "slideshow": {
                    "slide_type": "slide"
                }
            },
            "source": [
                "## A word of caution on overfitting (more on this later)\n",
                "\n",
                "It is tempting to include a lot of terms in the regression, but this is problematic. A useful model will  *generalize* beyond the data given to it. You may want to come back to this illustration after the next video on overfitting\n",
                "\n",
                "![image](http:\/\/imgs.xkcd.com\/comics\/curve_fitting_2x.png)\n"
            ]
        },
        {
            "cell_type": "code",
            "execution_count": null,
            "metadata": {
                "collapsed": true
            },
            "outputs": [],
            "source": []
        }
    ],
    "metadata": {
        "anaconda-cloud": [],
        "celltoolbar": "Slideshow",
        "kernelspec": {
            "display_name": "Python 3.7",
            "language": "python",
            "name": "python3"
        },
        "language_info": {
            "codemirror_mode": {
                "name": "ipython",
                "version": 3
            },
            "file_extension": ".py",
            "mimetype": "text\/x-python",
            "name": "python",
            "nbconvert_exporter": "python",
            "pygments_lexer": "ipython3",
            "version": "3.7.5"
        }
    },
    "nbformat": 4,
    "nbformat_minor": 1
}